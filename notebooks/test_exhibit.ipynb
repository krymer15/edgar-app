{
 "cells": [
  {
   "cell_type": "code",
   "execution_count": null,
   "id": "8b5cfd68",
   "metadata": {},
   "outputs": [],
   "source": [
    "import sys\n",
    "import os\n",
    "\n",
    "# Make sure the parent directory (edgar-app) is in sys.path\n",
    "sys.path.append(os.path.abspath('..'))\n",
    "\n",
    "from parsers.exhibit_parser import ExhibitParser\n",
    "\n",
    "# Load the raw HTML file\n",
    "with open(\"../data/raw_exhibit.html\", \"r\", encoding=\"utf-8\") as file:\n",
    "    raw_html = file.read()\n",
    "\n",
    "# Create and use the parser\n",
    "parser = ExhibitParser(raw_html, add_header_labels=True)\n",
    "parser.parse()\n",
    "\n",
    "cleaned_text = parser.get_cleaned_text()\n",
    "\n",
    "# View the result\n",
    "print(cleaned_text[:2000])\n",
    "\n"
   ]
  }
 ],
 "metadata": {
  "kernelspec": {
   "display_name": "edgar-env",
   "language": "python",
   "name": "python3"
  },
  "language_info": {
   "codemirror_mode": {
    "name": "ipython",
    "version": 3
   },
   "file_extension": ".py",
   "mimetype": "text/x-python",
   "name": "python",
   "nbconvert_exporter": "python",
   "pygments_lexer": "ipython3",
   "version": "3.11.11"
  }
 },
 "nbformat": 4,
 "nbformat_minor": 5
}
