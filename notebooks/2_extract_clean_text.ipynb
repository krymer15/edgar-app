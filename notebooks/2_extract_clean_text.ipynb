{
 "cells": [
  {
   "cell_type": "code",
   "execution_count": 1,
   "id": "a5abc632",
   "metadata": {},
   "outputs": [
    {
     "name": "stdout",
     "output_type": "stream",
     "text": [
      "Extracted 134 text blocks\n",
      "First few extracted text blocks:\n"
     ]
    },
    {
     "data": {
      "text/markdown": [
       "**Block:** Exhibit 99.1"
      ],
      "text/plain": [
       "<IPython.core.display.Markdown object>"
      ]
     },
     "metadata": {},
     "output_type": "display_data"
    },
    {
     "data": {
      "text/markdown": [
       "**Block:** Marvell Technology, Inc. Reports Fourth Quarter and Fiscal Year 2025"
      ],
      "text/plain": [
       "<IPython.core.display.Markdown object>"
      ]
     },
     "metadata": {},
     "output_type": "display_data"
    },
    {
     "data": {
      "text/markdown": [
       "**Block:** Financial Results"
      ],
      "text/plain": [
       "<IPython.core.display.Markdown object>"
      ]
     },
     "metadata": {},
     "output_type": "display_data"
    },
    {
     "data": {
      "text/markdown": [
       "**Block:** •Q4 Net Revenue: $1.817 billion, grew by 27% year-on-year"
      ],
      "text/plain": [
       "<IPython.core.display.Markdown object>"
      ]
     },
     "metadata": {},
     "output_type": "display_data"
    },
    {
     "data": {
      "text/markdown": [
       "**Block:** •Q4 Gross Margin: 50.5% GAAP gross margin; 60.1% non-GAAP gross margin"
      ],
      "text/plain": [
       "<IPython.core.display.Markdown object>"
      ]
     },
     "metadata": {},
     "output_type": "display_data"
    },
    {
     "name": "stdout",
     "output_type": "stream",
     "text": [
      "✅ Saved cleaned exhibit text to 'output/exhibit_99_1_cleaned_text.txt'\n"
     ]
    }
   ],
   "source": [
    "# 1. Imports\n",
    "from lxml import html\n",
    "from IPython.display import display, Markdown\n",
    "\n",
    "# 2. Load Cleaned Body HTML\n",
    "with open(\"output/cleaned_exhibit_body.html\", \"r\", encoding=\"utf-8\") as f:\n",
    "    cleaned_html = f.read()\n",
    "\n",
    "tree = html.fromstring(cleaned_html)\n",
    "\n",
    "# 3. Extract Clean Text Blocks\n",
    "paragraphs = tree.xpath('.//p | .//div[not(descendant::div)]')\n",
    "\n",
    "print(f\"Extracted {len(paragraphs)} text blocks\")\n",
    "\n",
    "# 4. Serialize Clean Text\n",
    "texts = [p.text_content().strip() for p in paragraphs if p.text_content().strip()]\n",
    "\n",
    "# 5. Check First Few Blocks\n",
    "print(\"First few extracted text blocks:\")\n",
    "for text in texts[:5]:\n",
    "    display(Markdown(f\"**Block:** {text}\"))\n",
    "\n",
    "# 6. Save Extracted Clean Text\n",
    "with open(\"output/exhibit_99_1_cleaned_text.txt\", \"w\", encoding=\"utf-8\") as f:\n",
    "    for text in texts:\n",
    "        f.write(text + \"\\n\\n\")\n",
    "\n",
    "print(\"✅ Saved cleaned exhibit text to 'output/exhibit_99_1_cleaned_text.txt'\")\n"
   ]
  },
  {
   "cell_type": "code",
   "execution_count": null,
   "id": "6f41488b",
   "metadata": {},
   "outputs": [],
   "source": []
  }
 ],
 "metadata": {
  "kernelspec": {
   "display_name": "edgar-env",
   "language": "python",
   "name": "python3"
  },
  "language_info": {
   "codemirror_mode": {
    "name": "ipython",
    "version": 3
   },
   "file_extension": ".py",
   "mimetype": "text/x-python",
   "name": "python",
   "nbconvert_exporter": "python",
   "pygments_lexer": "ipython3",
   "version": "3.11.11"
  }
 },
 "nbformat": 4,
 "nbformat_minor": 5
}
