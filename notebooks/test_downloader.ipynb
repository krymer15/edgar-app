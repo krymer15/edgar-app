{
 "cells": [
  {
   "cell_type": "code",
   "execution_count": 1,
   "id": "e2d946b4",
   "metadata": {},
   "outputs": [],
   "source": [
    "# Imports\n",
    "import sys\n",
    "import os\n",
    "\n",
    "# Add the parent directory of \"notebooks\" to the system path\n",
    "sys.path.append(os.path.abspath(os.path.join(os.getcwd(), \"..\")))\n",
    "\n",
    "from downloaders.sec_downloader import SECDownloader\n",
    "\n",
    "# Initialize the SECDownloader\n",
    "downloader = SECDownloader(delay=1.0)  # Default polite 1 second delay"
   ]
  },
  {
   "cell_type": "code",
   "execution_count": 4,
   "id": "8e1a41c1",
   "metadata": {},
   "outputs": [
    {
     "name": "stdout",
     "output_type": "stream",
     "text": [
      "✅ Download successful. HTML content length: 444339 characters.\n",
      "<DOCUMENT>\n",
      "<TYPE>EX-99.1\n",
      "<SEQUENCE>2\n",
      "<FILENAME>q425_8kx212025ex-991.htm\n",
      "<DESCRIPTION>EXHIBIT 99.1\n",
      "<TEXT>\n",
      "<html><head>\n",
      "<!-- Document created using Wdesk -->\n",
      "<!-- Copyright 2025 Workiva -->\n",
      "<title>Document</title></head><body><div id=\"i2099fba01a62404a8f1f7e92b904f3a8_1\"></div><div style=\"min-height:36pt;width:100%\"><div style=\"text-align:center\"><font><br></font></div></div><div style=\"text-align:right\"><font style=\"color:#000000;font-family:'Times New Roman',sans-serif;font-size:10pt;font-weight\n"
     ]
    }
   ],
   "source": [
    "# Test downloading a raw HTML page from SEC\n",
    "test_url = \"https://www.sec.gov/Archives/edgar/data/1835632/000183563225000051/q425_8kx212025ex-991.htm\"  # Example: Apple 10-Q\n",
    "\n",
    "try:\n",
    "    html_content = downloader.download_html(test_url)\n",
    "    print(f\"✅ Download successful. HTML content length: {len(html_content)} characters.\")\n",
    "    print(html_content[:500])  # Preview first 500 characters\n",
    "except Exception as e:\n",
    "    print(f\"❌ Error during HTML download: {e}\")"
   ]
  },
  {
   "cell_type": "code",
   "execution_count": 5,
   "id": "a85ed71c",
   "metadata": {},
   "outputs": [
    {
     "name": "stdout",
     "output_type": "stream",
     "text": [
      "✅ Submissions data retrieved successfully.\n",
      "✅ Submissions JSON fetched successfully.\n"
     ]
    }
   ],
   "source": [
    "# Test fetching submissions for Apple (CIK: 320193)\n",
    "cik = \"320193\"  # Apple Inc.\n",
    "\n",
    "try:\n",
    "    downloader.fetch_submissions(cik)\n",
    "    print(\"✅ Submissions JSON fetched successfully.\")\n",
    "except Exception as e:\n",
    "    print(f\"❌ Error during submissions fetch: {e}\")\n"
   ]
  },
  {
   "cell_type": "code",
   "execution_count": 6,
   "id": "6ef2cc55",
   "metadata": {},
   "outputs": [
    {
     "name": "stdout",
     "output_type": "stream",
     "text": [
      "✅ 1000 recent filings extracted.\n",
      "✅ Recent filings extracted. Total: 1000\n"
     ]
    }
   ],
   "source": [
    "# Test extracting recent filings\n",
    "try:\n",
    "    downloader.extract_recent_filings()\n",
    "    print(f\"✅ Recent filings extracted. Total: {len(downloader.recent_filings.get('accessionNumber', []))}\")\n",
    "except Exception as e:\n",
    "    print(f\"❌ Error during recent filings extraction: {e}\")\n"
   ]
  },
  {
   "cell_type": "code",
   "execution_count": 7,
   "id": "fcdac78c",
   "metadata": {},
   "outputs": [
    {
     "name": "stdout",
     "output_type": "stream",
     "text": [
      "✅ 112 filings matched filter criteria.\n",
      "✅ 112 filings matched the filter.\n",
      "{'accessionNumber': '0001140361-25-005876', 'form': '8-K', 'filingDate': '2025-02-25', 'primaryDocument': 'ef20044022_8k.htm', 'filing_url': 'https://www.sec.gov/Archives/edgar/data/1140361/000114036125005876/ef20044022_8k.htm'}\n",
      "{'accessionNumber': '0000320193-25-000007', 'form': '8-K', 'filingDate': '2025-01-30', 'primaryDocument': 'aapl-20250130.htm', 'filing_url': 'https://www.sec.gov/Archives/edgar/data/320193/000032019325000007/aapl-20250130.htm'}\n",
      "{'accessionNumber': '0001140361-25-000228', 'form': '8-K', 'filingDate': '2025-01-03', 'primaryDocument': 'ef20040370_8k.htm', 'filing_url': 'https://www.sec.gov/Archives/edgar/data/1140361/000114036125000228/ef20040370_8k.htm'}\n"
     ]
    }
   ],
   "source": [
    "# Test building filing URLs (e.g., only '8-K' and '10-K' forms)\n",
    "try:\n",
    "    filings = downloader.build_filing_urls(forms_filter=[\"8-K\", \"10-K\"])\n",
    "    print(f\"✅ {len(filings)} filings matched the filter.\")\n",
    "    for filing in filings[:3]:  # Show first 3 filings as example\n",
    "        print(filing)\n",
    "except Exception as e:\n",
    "    print(f\"❌ Error during filing URL building: {e}\")\n"
   ]
  },
  {
   "cell_type": "code",
   "execution_count": 8,
   "id": "5be3919a",
   "metadata": {},
   "outputs": [
    {
     "name": "stdout",
     "output_type": "stream",
     "text": [
      "✅ Throttle delay updated to 0.5 seconds.\n"
     ]
    }
   ],
   "source": [
    "# Adjust polite delay (optional)\n",
    "downloader.delay = 0.5  # Change to 0.5 seconds if you want faster testing\n",
    "print(f\"✅ Throttle delay updated to {downloader.delay} seconds.\")\n"
   ]
  },
  {
   "cell_type": "code",
   "execution_count": 9,
   "id": "c3c05df2",
   "metadata": {},
   "outputs": [
    {
     "name": "stdout",
     "output_type": "stream",
     "text": [
      "✅ Submissions data retrieved successfully.\n",
      "✅ 1001 recent filings extracted.\n",
      "✅ 71 filings matched filter criteria.\n",
      "✅ 71 filings matched the filter for Microsoft.\n",
      "{'accessionNumber': '0000950170-25-010484', 'form': '8-K', 'filingDate': '2025-01-29', 'primaryDocument': 'msft-20250129.htm', 'filing_url': 'https://www.sec.gov/Archives/edgar/data/950170/000095017025010484/msft-20250129.htm'}\n",
      "{'accessionNumber': '0001193125-25-010492', 'form': '8-K', 'filingDate': '2025-01-22', 'primaryDocument': 'd929748d8k.htm', 'filing_url': 'https://www.sec.gov/Archives/edgar/data/1193125/000119312525010492/d929748d8k.htm'}\n",
      "{'accessionNumber': '0001193125-24-275524', 'form': '8-K', 'filingDate': '2024-12-11', 'primaryDocument': 'd865252d8k.htm', 'filing_url': 'https://www.sec.gov/Archives/edgar/data/1193125/000119312524275524/d865252d8k.htm'}\n"
     ]
    }
   ],
   "source": [
    "# Test fetching submissions and filings for Microsoft (CIK: 789019)\n",
    "cik = \"789019\"  # Microsoft Corporation\n",
    "\n",
    "try:\n",
    "    downloader.fetch_submissions(cik)\n",
    "    downloader.extract_recent_filings()\n",
    "    filings = downloader.build_filing_urls(forms_filter=[\"8-K\", \"10-K\"])\n",
    "    print(f\"✅ {len(filings)} filings matched the filter for Microsoft.\")\n",
    "    for filing in filings[:3]:  # Show first 3 filings\n",
    "        print(filing)\n",
    "except Exception as e:\n",
    "    print(f\"❌ Error during Microsoft filing fetch: {e}\")\n"
   ]
  },
  {
   "cell_type": "code",
   "execution_count": 10,
   "id": "3d5f5d92",
   "metadata": {},
   "outputs": [
    {
     "name": "stdout",
     "output_type": "stream",
     "text": [
      "✅ 1001 filings URLs built.\n",
      "✅ 1001 filings retrieved without any form filter.\n",
      "{'accessionNumber': '0001062993-25-007602', 'form': '4', 'filingDate': '2025-04-16', 'primaryDocument': 'xslF345X05/form4.xml', 'filing_url': 'https://www.sec.gov/Archives/edgar/data/1062993/000106299325007602/xslF345X05/form4.xml'}\n",
      "{'accessionNumber': '0000950170-25-045366', 'form': '11-K', 'filingDate': '2025-03-26', 'primaryDocument': 'msft-11k-espp-2024.htm', 'filing_url': 'https://www.sec.gov/Archives/edgar/data/950170/000095017025045366/msft-11k-espp-2024.htm'}\n",
      "{'accessionNumber': '0001062993-25-006285', 'form': '3', 'filingDate': '2025-03-25', 'primaryDocument': 'xslF345X02/form3.xml', 'filing_url': 'https://www.sec.gov/Archives/edgar/data/1062993/000106299325006285/xslF345X02/form3.xml'}\n"
     ]
    }
   ],
   "source": [
    "# Test building filing URLs with no filter (return everything)\n",
    "try:\n",
    "    filings_all = downloader.build_filing_urls()\n",
    "    print(f\"✅ {len(filings_all)} filings retrieved without any form filter.\")\n",
    "    for filing in filings_all[:3]:  # Show first 3 filings\n",
    "        print(filing)\n",
    "except Exception as e:\n",
    "    print(f\"❌ Error during all filings retrieval: {e}\")\n"
   ]
  },
  {
   "cell_type": "code",
   "execution_count": null,
   "id": "79f699ac",
   "metadata": {},
   "outputs": [],
   "source": []
  }
 ],
 "metadata": {
  "kernelspec": {
   "display_name": "edgar-env",
   "language": "python",
   "name": "python3"
  },
  "language_info": {
   "codemirror_mode": {
    "name": "ipython",
    "version": 3
   },
   "file_extension": ".py",
   "mimetype": "text/x-python",
   "name": "python",
   "nbconvert_exporter": "python",
   "pygments_lexer": "ipython3",
   "version": "3.11.11"
  }
 },
 "nbformat": 4,
 "nbformat_minor": 5
}
