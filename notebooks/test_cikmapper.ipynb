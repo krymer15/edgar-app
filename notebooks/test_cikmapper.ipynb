{
 "cells": [
  {
   "cell_type": "code",
   "execution_count": 1,
   "id": "7bdef01c",
   "metadata": {},
   "outputs": [],
   "source": [
    "# Imports\n",
    "import sys\n",
    "import os\n",
    "\n",
    "# Set project root dynamically\n",
    "sys.path.append(os.path.abspath(os.path.join(os.getcwd(), \"..\")))"
   ]
  },
  {
   "cell_type": "code",
   "execution_count": 2,
   "id": "6d189b4e",
   "metadata": {},
   "outputs": [],
   "source": [
    "from utils.ticker_cik_mapper import TickerCIKMapper"
   ]
  },
  {
   "cell_type": "code",
   "execution_count": 4,
   "id": "a86db63f",
   "metadata": {},
   "outputs": [
    {
     "name": "stdout",
     "output_type": "stream",
     "text": [
      "CIK for AAPL: 0001835632\n"
     ]
    }
   ],
   "source": [
    "# Initialize the Mapper\n",
    "mapper = TickerCIKMapper()\n",
    "\n",
    "# Run a lookup\n",
    "cik = mapper.get_cik(\"MRVL\")\n",
    "\n",
    "print(f\"CIK for AAPL: {cik}\")"
   ]
  },
  {
   "cell_type": "code",
   "execution_count": null,
   "id": "cfc041f8",
   "metadata": {},
   "outputs": [],
   "source": []
  }
 ],
 "metadata": {
  "kernelspec": {
   "display_name": "edgar-env",
   "language": "python",
   "name": "python3"
  },
  "language_info": {
   "codemirror_mode": {
    "name": "ipython",
    "version": 3
   },
   "file_extension": ".py",
   "mimetype": "text/x-python",
   "name": "python",
   "nbconvert_exporter": "python",
   "pygments_lexer": "ipython3",
   "version": "3.11.11"
  }
 },
 "nbformat": 4,
 "nbformat_minor": 5
}
