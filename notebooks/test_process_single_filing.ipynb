{
 "cells": [
  {
   "cell_type": "code",
   "execution_count": 1,
   "id": "d08cf538",
   "metadata": {},
   "outputs": [
    {
     "name": "stdout",
     "output_type": "stream",
     "text": [
      "✅ Submissions data retrieved successfully.\n",
      "✅ Metadata saved to output/0001835632_metadata.json\n",
      "✅ 624 recent filings extracted.\n",
      "✅ 58 filings matched filter criteria.\n",
      "\n",
      "🔎 Trying to download: https://www.sec.gov/Archives/edgar/data/1835632/000119312525079772/d857711d8k.htm\n",
      "✅ Successfully downloaded https://www.sec.gov/Archives/edgar/data/1835632/000119312525079772/d857711d8k.htm\n",
      "✅ Saved raw HTML to c:\\Users\\Kris Acer PC\\Dropbox\\Safe Harbor\\AI Projects\\edgar-app\\data\\raw\\1835632\\2025-04-14_8-K_000119312525079772.html\n",
      "✅ Saved filing metadata to c:\\Users\\Kris Acer PC\\Dropbox\\Safe Harbor\\AI Projects\\edgar-app\\data\\raw\\1835632\\2025-04-14_8-K_000119312525079772_metadata.json\n",
      "✅ Saved parsed text blocks to c:\\Users\\Kris Acer PC\\Dropbox\\Safe Harbor\\AI Projects\\edgar-app\\data\\processed\\1835632\\2025-04-14_8-K_000119312525079772_blocks.txt\n",
      "\n",
      "🔎 Trying to download: https://www.sec.gov/Archives/edgar/data/1835632/000119312525074816/d892114d8k.htm\n",
      "✅ Successfully downloaded https://www.sec.gov/Archives/edgar/data/1835632/000119312525074816/d892114d8k.htm\n",
      "✅ Saved raw HTML to c:\\Users\\Kris Acer PC\\Dropbox\\Safe Harbor\\AI Projects\\edgar-app\\data\\raw\\1835632\\2025-04-08_8-K_000119312525074816.html\n",
      "✅ Saved filing metadata to c:\\Users\\Kris Acer PC\\Dropbox\\Safe Harbor\\AI Projects\\edgar-app\\data\\raw\\1835632\\2025-04-08_8-K_000119312525074816_metadata.json\n",
      "✅ Saved parsed text blocks to c:\\Users\\Kris Acer PC\\Dropbox\\Safe Harbor\\AI Projects\\edgar-app\\data\\processed\\1835632\\2025-04-08_8-K_000119312525074816_blocks.txt\n",
      "\n",
      "🔎 Trying to download: https://www.sec.gov/Archives/edgar/data/1835632/000183563225000068/mrvl-20250321.htm\n",
      "✅ Successfully downloaded https://www.sec.gov/Archives/edgar/data/1835632/000183563225000068/mrvl-20250321.htm\n",
      "✅ Saved raw HTML to c:\\Users\\Kris Acer PC\\Dropbox\\Safe Harbor\\AI Projects\\edgar-app\\data\\raw\\1835632\\2025-03-21_8-K_000183563225000068.html\n",
      "✅ Saved filing metadata to c:\\Users\\Kris Acer PC\\Dropbox\\Safe Harbor\\AI Projects\\edgar-app\\data\\raw\\1835632\\2025-03-21_8-K_000183563225000068_metadata.json\n",
      "✅ Saved parsed text blocks to c:\\Users\\Kris Acer PC\\Dropbox\\Safe Harbor\\AI Projects\\edgar-app\\data\\processed\\1835632\\2025-03-21_8-K_000183563225000068_blocks.txt\n",
      "\n",
      "🔎 Trying to download: https://www.sec.gov/Archives/edgar/data/1835632/000119312525053027/d894280d8k.htm\n",
      "✅ Successfully downloaded https://www.sec.gov/Archives/edgar/data/1835632/000119312525053027/d894280d8k.htm\n",
      "✅ Saved raw HTML to c:\\Users\\Kris Acer PC\\Dropbox\\Safe Harbor\\AI Projects\\edgar-app\\data\\raw\\1835632\\2025-03-12_8-K_000119312525053027.html\n",
      "✅ Saved filing metadata to c:\\Users\\Kris Acer PC\\Dropbox\\Safe Harbor\\AI Projects\\edgar-app\\data\\raw\\1835632\\2025-03-12_8-K_000119312525053027_metadata.json\n",
      "✅ Saved parsed text blocks to c:\\Users\\Kris Acer PC\\Dropbox\\Safe Harbor\\AI Projects\\edgar-app\\data\\processed\\1835632\\2025-03-12_8-K_000119312525053027_blocks.txt\n",
      "\n",
      "🔎 Trying to download: https://www.sec.gov/Archives/edgar/data/1835632/000183563225000057/mrvl-20250201.htm\n",
      "✅ Successfully downloaded https://www.sec.gov/Archives/edgar/data/1835632/000183563225000057/mrvl-20250201.htm\n",
      "✅ Saved raw HTML to c:\\Users\\Kris Acer PC\\Dropbox\\Safe Harbor\\AI Projects\\edgar-app\\data\\raw\\1835632\\2025-03-12_10-K_000183563225000057.html\n",
      "✅ Saved filing metadata to c:\\Users\\Kris Acer PC\\Dropbox\\Safe Harbor\\AI Projects\\edgar-app\\data\\raw\\1835632\\2025-03-12_10-K_000183563225000057_metadata.json\n",
      "✅ Saved parsed text blocks to c:\\Users\\Kris Acer PC\\Dropbox\\Safe Harbor\\AI Projects\\edgar-app\\data\\processed\\1835632\\2025-03-12_10-K_000183563225000057_blocks.txt\n",
      "\n",
      "🏁 Finished processing 5 filings for MRVL (1835632).\n"
     ]
    }
   ],
   "source": [
    "import sys\n",
    "import os\n",
    "sys.path.append(os.path.abspath(os.path.join(os.getcwd(), \"..\")))\n",
    "\n",
    "from scripts.process_company_filings import process_company_filings\n",
    "\n",
    "process_company_filings(\"MRVL\", num_filings=5)"
   ]
  },
  {
   "cell_type": "code",
   "execution_count": null,
   "id": "787d1b23",
   "metadata": {},
   "outputs": [],
   "source": []
  }
 ],
 "metadata": {
  "kernelspec": {
   "display_name": "edgar-env",
   "language": "python",
   "name": "python3"
  },
  "language_info": {
   "codemirror_mode": {
    "name": "ipython",
    "version": 3
   },
   "file_extension": ".py",
   "mimetype": "text/x-python",
   "name": "python",
   "nbconvert_exporter": "python",
   "pygments_lexer": "ipython3",
   "version": "3.11.11"
  }
 },
 "nbformat": 4,
 "nbformat_minor": 5
}
