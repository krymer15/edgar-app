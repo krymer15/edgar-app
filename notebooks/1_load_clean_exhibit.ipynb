{
 "cells": [
  {
   "cell_type": "code",
   "execution_count": 5,
   "id": "bb28868c",
   "metadata": {},
   "outputs": [
    {
     "name": "stdout",
     "output_type": "stream",
     "text": [
      "Parsed tree type: <class 'lxml.html.HtmlElement'>\n",
      "First-level children in <body>:\n",
      "document\n",
      "Found 10 tables to remove\n",
      "First-level children in <body> after table removal:\n",
      "document\n",
      "✅ Saved cleaned body HTML to 'output/cleaned_exhibit_body.html'\n"
     ]
    }
   ],
   "source": [
    "# 1. Imports\n",
    "from lxml import html\n",
    "import requests, time\n",
    "from IPython.display import display, Markdown\n",
    "\n",
    "\n",
    "# 2. Load Raw HTML\n",
    "url = \"https://www.sec.gov/Archives/edgar/data/1835632/000183563225000051/q425_8kx212025ex-991.htm\"\n",
    "headers = {\n",
    "    \"User-Agent\": \"Kris at Safe Harbor Stocks (kris@safeharborstocks.com)\"\n",
    "}\n",
    "\n",
    "response = requests.get(url, headers=headers)\n",
    "time.sleep(1.0)  # ✅ throttle to avoid hammering SEC servers\n",
    "raw_html = response.text\n",
    "\n",
    "with open(\"output/raw_exhibit.html\", \"w\", encoding=\"utf-8\") as f:\n",
    "    f.write(raw_html)\n",
    "\n",
    "# 4. Parse HTML Tree\n",
    "tree = html.fromstring(raw_html)\n",
    "\n",
    "# 5. Confirm Tree Type\n",
    "print(f\"Parsed tree type: {type(tree)}\")  # should be <class 'lxml.html.HtmlElement'>\n",
    "\n",
    "# 6. Extract <body> Element\n",
    "body_elements = tree.xpath('//body')\n",
    "if not body_elements:\n",
    "    raise ValueError(\"No <body> tag found in HTML.\")\n",
    "body = body_elements[0]\n",
    "\n",
    "# 7. Inspect First-Level Children Tags\n",
    "print(\"First-level children in <body>:\")\n",
    "for child in body.iterchildren():\n",
    "    print(child.tag)\n",
    "\n",
    "# 8. Extract and Remove <table> Elements\n",
    "tables = body.xpath('.//table')\n",
    "print(f\"Found {len(tables)} tables to remove\")\n",
    "\n",
    "for table in tables:\n",
    "    parent = table.getparent()\n",
    "    if parent is not None:\n",
    "        parent.remove(table)\n",
    "\n",
    "# 9. Checkpoint After Table Removal\n",
    "print(\"First-level children in <body> after table removal:\")\n",
    "for child in body.iterchildren():\n",
    "    print(child.tag)\n",
    "\n",
    "# 10. Save Cleaned Body HTML\n",
    "cleaned_html = html.tostring(body, pretty_print=True, encoding='unicode')\n",
    "\n",
    "with open(\"output/cleaned_exhibit_body.html\", \"w\", encoding=\"utf-8\") as f:\n",
    "    f.write(cleaned_html)\n",
    "\n",
    "print(\"✅ Saved cleaned body HTML to 'output/cleaned_exhibit_body.html'\")\n"
   ]
  },
  {
   "cell_type": "code",
   "execution_count": null,
   "id": "bdf9bc1d",
   "metadata": {},
   "outputs": [],
   "source": []
  }
 ],
 "metadata": {
  "kernelspec": {
   "display_name": "edgar-env",
   "language": "python",
   "name": "python3"
  },
  "language_info": {
   "codemirror_mode": {
    "name": "ipython",
    "version": 3
   },
   "file_extension": ".py",
   "mimetype": "text/x-python",
   "name": "python",
   "nbconvert_exporter": "python",
   "pygments_lexer": "ipython3",
   "version": "3.11.11"
  }
 },
 "nbformat": 4,
 "nbformat_minor": 5
}
