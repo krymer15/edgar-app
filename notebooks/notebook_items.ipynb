{
 "cells": [
  {
   "cell_type": "code",
   "execution_count": null,
   "id": "2ed6465a",
   "metadata": {},
   "outputs": [
    {
     "name": "stdout",
     "output_type": "stream",
     "text": [
      "['Item 2.02', 'Item 7.01', 'Item 9.01']\n"
     ]
    }
   ],
   "source": [
    "from edgar import Company, set_identity, Filing, Company\n",
    "from edgar.company_reports import EightK, PressRelease, PressReleases\n",
    "\n",
    "set_identity(\"kris@safeharborstocks.com\")  # Use your real email\n",
    "\n",
    "filing = Filing(form=\"8-K\", cik='0001104659', filing_date='2025-04-17', accession_no='0001104659-25-035771', company='GLOBAL PAYMENTS INC')\n",
    "\n",
    "eightk = filing.obj()\n",
    "print(eightk.items)\n",
    "\n",
    "import re\n",
    "\n",
    "def extract_item_section(text, item_code='2.02'):\n",
    "    pattern = rf\"(?is)(Item\\s+{item_code}.*?)(?=Item\\s+\\d+\\.\\d+|$)\"\n",
    "    match = re.search(pattern, text)\n",
    "    return match.group(1).strip() if match else None\n",
    "\n",
    "item_text = extract_item_section(eightk.text(), '2.02')\n",
    "#print(item_text)\n"
   ]
  },
  {
   "cell_type": "code",
   "execution_count": null,
   "id": "5bef65e6",
   "metadata": {},
   "outputs": [],
   "source": []
  }
 ],
 "metadata": {
  "kernelspec": {
   "display_name": "Python (edgar-env)",
   "language": "python",
   "name": "edgar-env"
  },
  "language_info": {
   "codemirror_mode": {
    "name": "ipython",
    "version": 3
   },
   "file_extension": ".py",
   "mimetype": "text/x-python",
   "name": "python",
   "nbconvert_exporter": "python",
   "pygments_lexer": "ipython3",
   "version": "3.10.16"
  }
 },
 "nbformat": 4,
 "nbformat_minor": 5
}
