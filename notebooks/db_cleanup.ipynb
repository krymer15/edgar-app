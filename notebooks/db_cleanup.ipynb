{
 "cells": [
  {
   "cell_type": "code",
   "execution_count": 2,
   "id": "6770ad92",
   "metadata": {},
   "outputs": [
    {
     "name": "stdout",
     "output_type": "stream",
     "text": [
      "🧹 Cleaning filing_summaries duplicates...\n",
      "✅ Cleaned filing_summaries\n",
      "🔒 Adding uniqueness constraint on accession...\n",
      "✅ Constraint added to filing_summaries\n",
      "\n",
      "🧹 Cleaning exhibit_summaries duplicates...\n",
      "✅ Cleaned exhibit_summaries\n",
      "🔒 Adding uniqueness constraint on (accession, exhibit_label)...\n",
      "✅ Constraint added to exhibit_summaries\n"
     ]
    }
   ],
   "source": [
    "import sys, os\n",
    "import psycopg2\n",
    "from dotenv import load_dotenv\n",
    "\n",
    "sys.path.append(os.path.abspath(\"..\"))\n",
    "load_dotenv()\n",
    "\n",
    "PGVECTOR_DB_URL = os.getenv(\"PGVECTOR_DB_URL\")\n",
    "\n",
    "def clean_and_constrain_vector_tables():\n",
    "    with psycopg2.connect(PGVECTOR_DB_URL) as conn:\n",
    "        with conn.cursor() as cur:\n",
    "            print(\"🧹 Cleaning filing_summaries duplicates...\")\n",
    "            cur.execute(\"\"\"\n",
    "                DELETE FROM filing_summaries\n",
    "                WHERE id NOT IN (\n",
    "                    SELECT MIN(id)\n",
    "                    FROM filing_summaries\n",
    "                    GROUP BY accession\n",
    "                );\n",
    "            \"\"\")\n",
    "            print(\"✅ Cleaned filing_summaries\")\n",
    "\n",
    "            print(\"🔒 Adding uniqueness constraint on accession...\")\n",
    "            try:\n",
    "                cur.execute(\"\"\"\n",
    "                    ALTER TABLE filing_summaries\n",
    "                    ADD CONSTRAINT unique_accession UNIQUE (accession);\n",
    "                \"\"\")\n",
    "                print(\"✅ Constraint added to filing_summaries\\n\")\n",
    "            except psycopg2.errors.DuplicateObject:\n",
    "                print(\"⚠️ Constraint already exists on filing_summaries\")\n",
    "                conn.rollback()\n",
    "\n",
    "            print(\"🧹 Cleaning exhibit_summaries duplicates...\")\n",
    "            cur.execute(\"\"\"\n",
    "                DELETE FROM exhibit_summaries\n",
    "                WHERE id NOT IN (\n",
    "                    SELECT MIN(id)\n",
    "                    FROM exhibit_summaries\n",
    "                    GROUP BY accession, exhibit_label\n",
    "                );\n",
    "            \"\"\")\n",
    "            print(\"✅ Cleaned exhibit_summaries\")\n",
    "\n",
    "            print(\"🔒 Adding uniqueness constraint on (accession, exhibit_label)...\")\n",
    "            try:\n",
    "                cur.execute(\"\"\"\n",
    "                    ALTER TABLE exhibit_summaries\n",
    "                    ADD CONSTRAINT unique_exhibit UNIQUE (accession, exhibit_label);\n",
    "                \"\"\")\n",
    "                print(\"✅ Constraint added to exhibit_summaries\")\n",
    "            except psycopg2.errors.DuplicateObject:\n",
    "                print(\"⚠️ Constraint already exists on exhibit_summaries\")\n",
    "                conn.rollback()\n",
    "\n",
    "            conn.commit()\n",
    "\n",
    "\n",
    "# ✅ Run it\n",
    "clean_and_constrain_vector_tables()\n"
   ]
  },
  {
   "cell_type": "code",
   "execution_count": null,
   "id": "c5036657",
   "metadata": {},
   "outputs": [],
   "source": []
  }
 ],
 "metadata": {
  "kernelspec": {
   "display_name": "Python (edgar-env)",
   "language": "python",
   "name": "edgar-env"
  },
  "language_info": {
   "codemirror_mode": {
    "name": "ipython",
    "version": 3
   },
   "file_extension": ".py",
   "mimetype": "text/x-python",
   "name": "python",
   "nbconvert_exporter": "python",
   "pygments_lexer": "ipython3",
   "version": "3.10.16"
  }
 },
 "nbformat": 4,
 "nbformat_minor": 5
}
