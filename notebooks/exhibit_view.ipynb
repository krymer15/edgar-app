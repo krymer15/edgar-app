{
 "cells": [
  {
   "cell_type": "code",
   "execution_count": 1,
   "id": "5623d111",
   "metadata": {},
   "outputs": [
    {
     "name": "stderr",
     "output_type": "stream",
     "text": [
      "C:\\Users\\Kris\\AppData\\Local\\Temp\\ipykernel_1756\\3577549796.py:8: UserWarning: pandas only supports SQLAlchemy connectable (engine/connection) or database string URI or sqlite3 DBAPI2 connection. Other DBAPI2 objects are not tested. Please consider using SQLAlchemy.\n",
      "  df = pd.read_sql(\"\"\"\n"
     ]
    },
    {
     "data": {
      "text/html": [
       "<div>\n",
       "<style scoped>\n",
       "    .dataframe tbody tr th:only-of-type {\n",
       "        vertical-align: middle;\n",
       "    }\n",
       "\n",
       "    .dataframe tbody tr th {\n",
       "        vertical-align: top;\n",
       "    }\n",
       "\n",
       "    .dataframe thead th {\n",
       "        text-align: right;\n",
       "    }\n",
       "</style>\n",
       "<table border=\"1\" class=\"dataframe\">\n",
       "  <thead>\n",
       "    <tr style=\"text-align: right;\">\n",
       "      <th></th>\n",
       "      <th>id</th>\n",
       "      <th>ticker</th>\n",
       "      <th>company</th>\n",
       "      <th>filing_date</th>\n",
       "      <th>accession</th>\n",
       "      <th>exhibit_label</th>\n",
       "      <th>summary_preview</th>\n",
       "    </tr>\n",
       "  </thead>\n",
       "  <tbody>\n",
       "    <tr>\n",
       "      <th>0</th>\n",
       "      <td>2</td>\n",
       "      <td>GPN</td>\n",
       "      <td>GLOBAL PAYMENTS INC</td>\n",
       "      <td>2025-04-21</td>\n",
       "      <td>0001104659-25-035771-index.html</td>\n",
       "      <td>exhibit 99.2</td>\n",
       "      <td>### Key Material Disclosures:\\n\\n- **Transacti...</td>\n",
       "    </tr>\n",
       "    <tr>\n",
       "      <th>1</th>\n",
       "      <td>1</td>\n",
       "      <td>GPN</td>\n",
       "      <td>GLOBAL PAYMENTS INC</td>\n",
       "      <td>2025-04-21</td>\n",
       "      <td>0001104659-25-035771-index.html</td>\n",
       "      <td>exhibit 99.1</td>\n",
       "      <td>### Key Material Disclosures:\\n\\n- **Acquisiti...</td>\n",
       "    </tr>\n",
       "    <tr>\n",
       "      <th>2</th>\n",
       "      <td>3</td>\n",
       "      <td>ASO</td>\n",
       "      <td>Academy Sports &amp; Outdoors, Inc.</td>\n",
       "      <td>2025-04-21</td>\n",
       "      <td>0001817358-25-000022-index.html</td>\n",
       "      <td>ex-99.1</td>\n",
       "      <td>### Key Material Disclosures:\\n\\n- **Financial...</td>\n",
       "    </tr>\n",
       "  </tbody>\n",
       "</table>\n",
       "</div>"
      ],
      "text/plain": [
       "   id ticker                          company filing_date  \\\n",
       "0   2    GPN              GLOBAL PAYMENTS INC  2025-04-21   \n",
       "1   1    GPN              GLOBAL PAYMENTS INC  2025-04-21   \n",
       "2   3    ASO  Academy Sports & Outdoors, Inc.  2025-04-21   \n",
       "\n",
       "                         accession exhibit_label  \\\n",
       "0  0001104659-25-035771-index.html  exhibit 99.2   \n",
       "1  0001104659-25-035771-index.html  exhibit 99.1   \n",
       "2  0001817358-25-000022-index.html       ex-99.1   \n",
       "\n",
       "                                     summary_preview  \n",
       "0  ### Key Material Disclosures:\\n\\n- **Transacti...  \n",
       "1  ### Key Material Disclosures:\\n\\n- **Acquisiti...  \n",
       "2  ### Key Material Disclosures:\\n\\n- **Financial...  "
      ]
     },
     "metadata": {},
     "output_type": "display_data"
    }
   ],
   "source": [
    "import sys, os\n",
    "sys.path.append(os.path.abspath(\"..\"))\n",
    "\n",
    "from agent_plugins.vector_store import connect\n",
    "import pandas as pd\n",
    "\n",
    "with connect() as conn:\n",
    "    df = pd.read_sql(\"\"\"\n",
    "        SELECT\n",
    "            id,\n",
    "            ticker,\n",
    "            company,\n",
    "            filing_date,\n",
    "            accession,\n",
    "            exhibit_label,\n",
    "            LEFT(summary, 300) as summary_preview\n",
    "        FROM exhibit_summaries\n",
    "        ORDER BY filing_date DESC\n",
    "        LIMIT 10;\n",
    "    \"\"\", conn)\n",
    "\n",
    "display(df)"
   ]
  },
  {
   "cell_type": "code",
   "execution_count": null,
   "id": "bba73750",
   "metadata": {},
   "outputs": [],
   "source": []
  }
 ],
 "metadata": {
  "kernelspec": {
   "display_name": "Python (edgar-env)",
   "language": "python",
   "name": "edgar-env"
  },
  "language_info": {
   "codemirror_mode": {
    "name": "ipython",
    "version": 3
   },
   "file_extension": ".py",
   "mimetype": "text/x-python",
   "name": "python",
   "nbconvert_exporter": "python",
   "pygments_lexer": "ipython3",
   "version": "3.10.16"
  }
 },
 "nbformat": 4,
 "nbformat_minor": 5
}
