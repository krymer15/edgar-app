{
 "cells": [
  {
   "cell_type": "code",
   "execution_count": 1,
   "id": "f98bbab1",
   "metadata": {},
   "outputs": [
    {
     "name": "stderr",
     "output_type": "stream",
     "text": [
      "c:\\Users\\Kris\\miniconda3\\envs\\edgar-env\\lib\\site-packages\\tqdm\\auto.py:21: TqdmWarning: IProgress not found. Please update jupyter and ipywidgets. See https://ipywidgets.readthedocs.io/en/stable/user_install.html\n",
      "  from .autonotebook import tqdm as notebook_tqdm\n"
     ]
    },
    {
     "name": "stdout",
     "output_type": "stream",
     "text": [
      "📊 Starting batch run of Filing Signal Engine...\n",
      "\n",
      "🔔 Processing: ELV\n",
      "🚀 Running Filing Signal Engine for: ELV\n",
      "🔍 Fetching 8-K filing for ELV...\n"
     ]
    },
    {
     "data": {
      "text/html": [
       "<pre style=\"white-space:pre;overflow-x:auto;line-height:normal;font-family:Menlo,'DejaVu Sans Mono',consolas,'Courier New',monospace\"></pre>\n"
      ],
      "text/plain": []
     },
     "metadata": {},
     "output_type": "display_data"
    },
    {
     "name": "stdout",
     "output_type": "stream",
     "text": [
      "✅ Filing and 0 exhibit(s) loaded for ELV. Items: ['Item 2.02', 'Item 7.01']\n",
      "🧠 Summarizing main 8-K filing body...\n",
      "🔁 No exhibits found. Rerunning filing body summary with market context...\n",
      "🧠 Synthesizing final user-facing signal summary...\n",
      "📁 Saved summary to: output/elv_8k_summary_2025-04-20.md\n",
      "✅ Posted ELV summary to Notion\n",
      "✅ Finished: ELV\n",
      "\n",
      "🎉 Batch processing complete.\n"
     ]
    }
   ],
   "source": [
    "import sys\n",
    "sys.path.append(\"..\")  # only needed if you're in /notebooks\n",
    "\n",
    "from run_pipeline import run_single_pipeline\n",
    "'''\n",
    "summary = run_single_pipeline(\"ELV\", save_output=False)\n",
    "print(summary[:2000])  # limit output preview\n",
    "'''\n",
    "\n",
    "from run_batch_pipeline import run_batch_filing_signal_engine\n",
    "\n",
    "# You can test with just 1 or 2 tickers for speed\n",
    "test_tickers = [\"ELV\"]\n",
    "run_batch_filing_signal_engine(tickers=test_tickers, push_to_notion=True)"
   ]
  },
  {
   "cell_type": "code",
   "execution_count": null,
   "id": "a962de44",
   "metadata": {},
   "outputs": [],
   "source": []
  }
 ],
 "metadata": {
  "kernelspec": {
   "display_name": "Python (edgar-env)",
   "language": "python",
   "name": "edgar-env"
  },
  "language_info": {
   "codemirror_mode": {
    "name": "ipython",
    "version": 3
   },
   "file_extension": ".py",
   "mimetype": "text/x-python",
   "name": "python",
   "nbconvert_exporter": "python",
   "pygments_lexer": "ipython3",
   "version": "3.10.16"
  }
 },
 "nbformat": 4,
 "nbformat_minor": 5
}
