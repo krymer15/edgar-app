{
 "cells": [
  {
   "cell_type": "code",
   "execution_count": 2,
   "id": "d337b78c",
   "metadata": {},
   "outputs": [
    {
     "name": "stderr",
     "output_type": "stream",
     "text": [
      "C:\\Users\\Kris\\AppData\\Local\\Temp\\ipykernel_4512\\945410588.py:14: UserWarning: pandas only supports SQLAlchemy connectable (engine/connection) or database string URI or sqlite3 DBAPI2 connection. Other DBAPI2 objects are not tested. Please consider using SQLAlchemy.\n",
      "  df = pd.read_sql(\"\"\"\n"
     ]
    },
    {
     "data": {
      "text/html": [
       "<div>\n",
       "<style scoped>\n",
       "    .dataframe tbody tr th:only-of-type {\n",
       "        vertical-align: middle;\n",
       "    }\n",
       "\n",
       "    .dataframe tbody tr th {\n",
       "        vertical-align: top;\n",
       "    }\n",
       "\n",
       "    .dataframe thead th {\n",
       "        text-align: right;\n",
       "    }\n",
       "</style>\n",
       "<table border=\"1\" class=\"dataframe\">\n",
       "  <thead>\n",
       "    <tr style=\"text-align: right;\">\n",
       "      <th></th>\n",
       "      <th>ticker</th>\n",
       "      <th>company</th>\n",
       "      <th>filing_date</th>\n",
       "      <th>summary</th>\n",
       "      <th>raw_text</th>\n",
       "    </tr>\n",
       "  </thead>\n",
       "  <tbody>\n",
       "    <tr>\n",
       "      <th>0</th>\n",
       "      <td>GPN</td>\n",
       "      <td>GLOBAL PAYMENTS INC</td>\n",
       "      <td>2025-04-21</td>\n",
       "      <td>### Global Payments Inc. (GPN) 8-K Summary\\n\\n...</td>\n",
       "      <td>None</td>\n",
       "    </tr>\n",
       "  </tbody>\n",
       "</table>\n",
       "</div>"
      ],
      "text/plain": [
       "  ticker              company filing_date  \\\n",
       "0    GPN  GLOBAL PAYMENTS INC  2025-04-21   \n",
       "\n",
       "                                             summary raw_text  \n",
       "0  ### Global Payments Inc. (GPN) 8-K Summary\\n\\n...     None  "
      ]
     },
     "metadata": {},
     "output_type": "display_data"
    },
    {
     "name": "stdout",
     "output_type": "stream",
     "text": [
      "\n",
      "\n",
      "📜 Filing Body Text:\n",
      "\n",
      "⚠️ No raw_text found for this filing. Try re-running the pipeline after patching vector_store.py.\n"
     ]
    }
   ],
   "source": [
    "import sys, os\n",
    "import psycopg2\n",
    "import pandas as pd\n",
    "from dotenv import load_dotenv\n",
    "\n",
    "sys.path.append(os.path.abspath(\"..\"))\n",
    "load_dotenv()\n",
    "\n",
    "conn = psycopg2.connect(os.getenv(\"PGVECTOR_DB_URL\"))\n",
    "\n",
    "# 🔎 Query latest 8-K with raw text\n",
    "accession = \"0001104659-25-035771\"  # Replace with any accession\n",
    "\n",
    "df = pd.read_sql(\"\"\"\n",
    "    SELECT ticker, company, filing_date, summary, raw_text\n",
    "    FROM filing_summaries\n",
    "    WHERE accession = %s;\n",
    "\"\"\", conn, params=(accession,))\n",
    "\n",
    "conn.close()\n",
    "\n",
    "# 🧾 Preview summary + full text\n",
    "display(df)\n",
    "\n",
    "print(\"\\n\\n📜 Filing Body Text:\\n\")\n",
    "\n",
    "raw_text = df.iloc[0][\"raw_text\"]\n",
    "\n",
    "if raw_text:\n",
    "    print(raw_text[:3000])  # First 3000 characters\n",
    "else:\n",
    "    print(\"⚠️ No raw_text found for this filing. Try re-running the pipeline after patching vector_store.py.\")\n"
   ]
  },
  {
   "cell_type": "code",
   "execution_count": null,
   "id": "e455d5f2",
   "metadata": {},
   "outputs": [],
   "source": []
  }
 ],
 "metadata": {
  "kernelspec": {
   "display_name": "Python (edgar-env)",
   "language": "python",
   "name": "edgar-env"
  },
  "language_info": {
   "codemirror_mode": {
    "name": "ipython",
    "version": 3
   },
   "file_extension": ".py",
   "mimetype": "text/x-python",
   "name": "python",
   "nbconvert_exporter": "python",
   "pygments_lexer": "ipython3",
   "version": "3.10.16"
  }
 },
 "nbformat": 4,
 "nbformat_minor": 5
}
